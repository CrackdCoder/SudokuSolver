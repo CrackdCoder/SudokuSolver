{
  "nbformat": 4,
  "nbformat_minor": 0,
  "metadata": {
    "colab": {
      "provenance": []
    },
    "kernelspec": {
      "name": "python3",
      "display_name": "Python 3"
    },
    "language_info": {
      "name": "python"
    }
  },
  "cells": [
    {
      "cell_type": "code",
      "source": [
        "#A function to check if a number is safe to place in a given position\n",
        "def is_safe(board, row, col, num):\n",
        "    # Check if the number exists in the same row\n",
        "    if num in board[row]:\n",
        "        return False\n",
        "\n",
        "    # Check if the number exists in the same column\n",
        "    for r in range(9):\n",
        "        if board[r][col] == num:\n",
        "            return False\n",
        "\n",
        "    # Check if the number exists in the same 3x3 subgrid\n",
        "    start_row, start_col = 3 * (row // 3), 3 * (col // 3)\n",
        "    for r in range(start_row, start_row + 3):\n",
        "        for c in range(start_col, start_col + 3):\n",
        "            if board[r][c] == num:\n",
        "                return False\n",
        "\n",
        "    return True\n"
      ],
      "metadata": {
        "id": "xpmUexDLYZ-Y"
      },
      "execution_count": 11,
      "outputs": []
    },
    {
      "cell_type": "code",
      "source": [
        "# A function to apply the backtracking algorithm\n",
        "def solve(board):\n",
        "    for row in range(9):\n",
        "        for col in range(9):\n",
        "            # If the current cell is empty (0), try to fill it with a valid number\n",
        "            if board[row][col] == 0:\n",
        "                for num in range(1, 10):\n",
        "                    if is_safe(board, row, col, num):  # Check if num is valid\n",
        "                        board[row][col] = num  # Place num in the cell\n",
        "                        if solve(board):  # Recursively attempt to solve\n",
        "                            return True\n",
        "                        board[row][col] = 0  # Undo the move (backtrack)\n",
        "                return False  # If no valid number is found, backtrack\n",
        "    return True  # Puzzle solved when no empty cells remain"
      ],
      "metadata": {
        "id": "S301ai6JTU3F"
      },
      "execution_count": 9,
      "outputs": []
    },
    {
      "cell_type": "code",
      "source": [
        "# Function to print the Sudoku board in a readable format\n",
        "def print_board(board):\n",
        "    for row in board:\n",
        "        print(\" \".join(str(num) if num != 0 else '.' for num in row))  # '.' for empty cells"
      ],
      "metadata": {
        "id": "zCGkg1ZrRW-d"
      },
      "execution_count": 5,
      "outputs": []
    },
    {
      "cell_type": "code",
      "source": [
        "#Function to take input from the user for the Sudoku board\n",
        "def input_board():\n",
        "    board = []\n",
        "    print(\"Enter the Sudoku puzzle row by row (use 0 for empty cells):\")\n",
        "    for i in range(9):\n",
        "        while True:\n",
        "            try:\n",
        "                row = list(map(int, input(f\"Row {i+1}: \").strip().split()))\n",
        "                if len(row) == 9 and all(0 <= num <= 9 for num in row):\n",
        "                    board.append(row)\n",
        "                    break\n",
        "                else:\n",
        "                    print(\"Invalid row, please enter exactly 9 numbers (0-9)!\")\n",
        "            except ValueError:\n",
        "                print(\"Invalid input, please enter only integers!\")\n",
        "    return board"
      ],
      "metadata": {
        "id": "DjQF4VVGSuIm"
      },
      "execution_count": 7,
      "outputs": []
    }
  ]
}